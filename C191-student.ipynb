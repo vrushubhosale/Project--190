{
 "cells": [
  {
   "cell_type": "code",
   "execution_count": 3,
   "metadata": {},
   "outputs": [
    {
     "name": "stdout",
     "output_type": "stream",
     "text": [
      "Name :\n",
      "We will continue learning about data visualization, and sort the data\n",
      "Plot bar graphs for the countries who has the heaviest satellites in space\n",
      "Plot bar graphs for the countries whose satellites consumes the least power in space\n"
     ]
    }
   ],
   "source": [
    "print(\"Name :\")\n",
    "print(\"We will continue learning about data visualization, and sort the data\")\n",
    "print(\"Plot bar graphs for the countries who has the heaviest satellites in space\")\n",
    "print(\"Plot bar graphs for the countries whose satellites consumes the least power in space\")"
   ]
  },
  {
   "cell_type": "code",
   "execution_count": 4,
   "metadata": {},
   "outputs": [
    {
     "ename": "ModuleNotFoundError",
     "evalue": "No module named 'pandas'",
     "output_type": "error",
     "traceback": [
      "\u001b[1;31m---------------------------------------------------------------------------\u001b[0m",
      "\u001b[1;31mModuleNotFoundError\u001b[0m                       Traceback (most recent call last)",
      "\u001b[1;32md:\\One Drive Backup\\OneDrive\\Desktop\\Codding\\Jupiter Notebook\\ADV-C191-Student\\C191-student.ipynb Cell 2'\u001b[0m in \u001b[0;36m<module>\u001b[1;34m\u001b[0m\n\u001b[0;32m      <a href='vscode-notebook-cell:/d%3A/One%20Drive%20Backup/OneDrive/Desktop/Codding/Jupiter%20Notebook/ADV-C191-Student/C191-student.ipynb#ch0000001?line=0'>1</a>\u001b[0m \u001b[39m#Activity-1\u001b[39;00m\n\u001b[0;32m      <a href='vscode-notebook-cell:/d%3A/One%20Drive%20Backup/OneDrive/Desktop/Codding/Jupiter%20Notebook/ADV-C191-Student/C191-student.ipynb#ch0000001?line=1'>2</a>\u001b[0m \u001b[39m#Q - Sort the data and find out the which Countries has the heaviest satellites, and plot a bar graph out of it\u001b[39;00m\n\u001b[1;32m----> <a href='vscode-notebook-cell:/d%3A/One%20Drive%20Backup/OneDrive/Desktop/Codding/Jupiter%20Notebook/ADV-C191-Student/C191-student.ipynb#ch0000001?line=2'>3</a>\u001b[0m \u001b[39mimport\u001b[39;00m \u001b[39mpandas\u001b[39;00m \u001b[39mas\u001b[39;00m \u001b[39mpd\u001b[39;00m\n\u001b[0;32m      <a href='vscode-notebook-cell:/d%3A/One%20Drive%20Backup/OneDrive/Desktop/Codding/Jupiter%20Notebook/ADV-C191-Student/C191-student.ipynb#ch0000001?line=3'>4</a>\u001b[0m \u001b[39mfrom\u001b[39;00m \u001b[39mmatplotlib\u001b[39;00m \u001b[39mimport\u001b[39;00m pyplot \u001b[39mas\u001b[39;00m plt\n\u001b[0;32m      <a href='vscode-notebook-cell:/d%3A/One%20Drive%20Backup/OneDrive/Desktop/Codding/Jupiter%20Notebook/ADV-C191-Student/C191-student.ipynb#ch0000001?line=5'>6</a>\u001b[0m dataframe \u001b[39m=\u001b[39m pd\u001b[39m.\u001b[39mread_csv(\u001b[39m'\u001b[39m\u001b[39mC191_satellite_data.csv\u001b[39m\u001b[39m'\u001b[39m)\n",
      "\u001b[1;31mModuleNotFoundError\u001b[0m: No module named 'pandas'"
     ]
    }
   ],
   "source": [
    "#Activity-1\n",
    "#Q - Sort the data and find out the which Countries has the heaviest satellites, and plot a bar graph out of it\n",
    "import pandas as pd\n",
    "from matplotlib import pyplot as plt\n",
    "\n",
    "dataframe = pd.read_csv('C191_satellite_data.csv')\n",
    "\n",
    "dataframe\n"
   ]
  },
  {
   "cell_type": "code",
   "execution_count": null,
   "metadata": {},
   "outputs": [
    {
     "data": {
      "text/html": [
       "<div>\n",
       "<style scoped>\n",
       "    .dataframe tbody tr th:only-of-type {\n",
       "        vertical-align: middle;\n",
       "    }\n",
       "\n",
       "    .dataframe tbody tr th {\n",
       "        vertical-align: top;\n",
       "    }\n",
       "\n",
       "    .dataframe thead th {\n",
       "        text-align: right;\n",
       "    }\n",
       "</style>\n",
       "<table border=\"1\" class=\"dataframe\">\n",
       "  <thead>\n",
       "    <tr style=\"text-align: right;\">\n",
       "      <th></th>\n",
       "      <th>Dry Mass (Kilograms)</th>\n",
       "      <th>Official Name of Satellite</th>\n",
       "    </tr>\n",
       "  </thead>\n",
       "  <tbody>\n",
       "    <tr>\n",
       "      <th>217</th>\n",
       "      <td>1</td>\n",
       "      <td>Cubesat XI-IV</td>\n",
       "    </tr>\n",
       "    <tr>\n",
       "      <th>159</th>\n",
       "      <td>1,050 (BOL)</td>\n",
       "      <td>Brazilsat B-3</td>\n",
       "    </tr>\n",
       "    <tr>\n",
       "      <th>158</th>\n",
       "      <td>1,050 (BOL)</td>\n",
       "      <td>Brazilsat B-2</td>\n",
       "    </tr>\n",
       "    <tr>\n",
       "      <th>160</th>\n",
       "      <td>1,050 (BOL)</td>\n",
       "      <td>Brazilsat B-4</td>\n",
       "    </tr>\n",
       "    <tr>\n",
       "      <th>569</th>\n",
       "      <td>1,500-1,900</td>\n",
       "      <td>Helios 2A</td>\n",
       "    </tr>\n",
       "    <tr>\n",
       "      <th>...</th>\n",
       "      <td>...</td>\n",
       "      <td>...</td>\n",
       "    </tr>\n",
       "    <tr>\n",
       "      <th>882</th>\n",
       "      <td>980</td>\n",
       "      <td>USA 196</td>\n",
       "    </tr>\n",
       "    <tr>\n",
       "      <th>884</th>\n",
       "      <td>980</td>\n",
       "      <td>USA 201</td>\n",
       "    </tr>\n",
       "    <tr>\n",
       "      <th>867</th>\n",
       "      <td>980</td>\n",
       "      <td>USA 175</td>\n",
       "    </tr>\n",
       "    <tr>\n",
       "      <th>875</th>\n",
       "      <td>980</td>\n",
       "      <td>USA 154</td>\n",
       "    </tr>\n",
       "    <tr>\n",
       "      <th>868</th>\n",
       "      <td>980</td>\n",
       "      <td>USA 177</td>\n",
       "    </tr>\n",
       "  </tbody>\n",
       "</table>\n",
       "<p>472 rows × 2 columns</p>\n",
       "</div>"
      ],
      "text/plain": [
       "    Dry Mass (Kilograms) Official Name of Satellite\n",
       "217                    1             Cubesat XI-IV \n",
       "159          1,050 (BOL)              Brazilsat B-3\n",
       "158          1,050 (BOL)              Brazilsat B-2\n",
       "160          1,050 (BOL)              Brazilsat B-4\n",
       "569          1,500-1,900                  Helios 2A\n",
       "..                   ...                        ...\n",
       "882                  980                    USA 196\n",
       "884                  980                    USA 201\n",
       "867                  980                    USA 175\n",
       "875                  980                    USA 154\n",
       "868                  980                    USA 177\n",
       "\n",
       "[472 rows x 2 columns]"
      ]
     },
     "execution_count": 3,
     "metadata": {},
     "output_type": "execute_result"
    }
   ],
   "source": [
    "df = pd.DataFrame(dataframe, columns =['Dry Mass (Kilograms)','Official Name of Satellite'])\n",
    "df.replace(\" \", float(\"NaN\"), inplace=True)\n",
    "\n",
    "df = df.dropna()\n",
    "\n",
    "sorted_df = df.sort_values(by=['Dry Mass (Kilograms)'])\n",
    "sorted_df\n",
    "\n"
   ]
  },
  {
   "cell_type": "code",
   "execution_count": null,
   "metadata": {},
   "outputs": [
    {
     "name": "stdout",
     "output_type": "stream",
     "text": [
      "    Dry Mass (Kilograms) Official Name of Satellite\n",
      "217                    1             Cubesat XI-IV \n",
      "159          1,050 (BOL)              Brazilsat B-3\n",
      "158          1,050 (BOL)              Brazilsat B-2\n",
      "160          1,050 (BOL)              Brazilsat B-4\n",
      "569          1,500-1,900                  Helios 2A\n"
     ]
    },
    {
     "data": {
      "text/plain": [
       "<BarContainer object of 5 artists>"
      ]
     },
     "execution_count": 4,
     "metadata": {},
     "output_type": "execute_result"
    },
    {
     "data": {
      "image/png": "[encoded data removed]",
      "text/plain": [
       "<Figure size 432x288 with 1 Axes>"
      ]
     },
     "metadata": {
      "needs_background": "light"
     },
     "output_type": "display_data"
    }
   ],
   "source": [
    "heavy_satellite_5 = sorted_df.head(5)\n",
    "print(heavy_satellite_5)\n",
    "\n",
    "name = heavy_satellite_5['Official Name of Satellite']\n",
    "weight = heavy_satellite_5['Dry Mass (Kilograms)']\n",
    "\n",
    "plt.xlabel(\"Official Name of Satellite\")\n",
    "plt.xticks(rotation='vertical')\n",
    "plt.ylabel(\"Mass (Kilograms)\")\n",
    "\n",
    "\n",
    "label = name\n",
    "value = weight\n",
    "plt.bar(label, value,width=0.4, color=('red','yellow','green','pink','blue')) #bar-grap\n"
   ]
  },
  {
   "cell_type": "code",
   "execution_count": 1,
   "metadata": {},
   "outputs": [
    {
     "ename": "ModuleNotFoundError",
     "evalue": "No module named 'pandas'",
     "output_type": "error",
     "traceback": [
      "\u001b[1;31m---------------------------------------------------------------------------\u001b[0m",
      "\u001b[1;31mModuleNotFoundError\u001b[0m                       Traceback (most recent call last)",
      "\u001b[1;32md:\\One Drive Backup\\OneDrive\\Desktop\\Codding\\Jupiter Notebook\\ADV-C191-Student\\ADV-C191-Student-20210106T105831Z-001\\C191-student.ipynb Cell 5'\u001b[0m in \u001b[0;36m<module>\u001b[1;34m\u001b[0m\n\u001b[0;32m      <a href='vscode-notebook-cell:/d%3A/One%20Drive%20Backup/OneDrive/Desktop/Codding/Jupiter%20Notebook/ADV-C191-Student/ADV-C191-Student-20210106T105831Z-001/C191-student.ipynb#ch0000004?line=0'>1</a>\u001b[0m \u001b[39m#Activity-2\u001b[39;00m\n\u001b[0;32m      <a href='vscode-notebook-cell:/d%3A/One%20Drive%20Backup/OneDrive/Desktop/Codding/Jupiter%20Notebook/ADV-C191-Student/ADV-C191-Student-20210106T105831Z-001/C191-student.ipynb#ch0000004?line=1'>2</a>\u001b[0m \u001b[39m#Q - Sort the data and find out 5 Countries whose satellites consume the least power, and plot a bar graph out of it\u001b[39;00m\n\u001b[1;32m----> <a href='vscode-notebook-cell:/d%3A/One%20Drive%20Backup/OneDrive/Desktop/Codding/Jupiter%20Notebook/ADV-C191-Student/ADV-C191-Student-20210106T105831Z-001/C191-student.ipynb#ch0000004?line=2'>3</a>\u001b[0m \u001b[39mimport\u001b[39;00m \u001b[39mpandas\u001b[39;00m \u001b[39mas\u001b[39;00m \u001b[39mpd\u001b[39;00m\n\u001b[0;32m      <a href='vscode-notebook-cell:/d%3A/One%20Drive%20Backup/OneDrive/Desktop/Codding/Jupiter%20Notebook/ADV-C191-Student/ADV-C191-Student-20210106T105831Z-001/C191-student.ipynb#ch0000004?line=3'>4</a>\u001b[0m \u001b[39mfrom\u001b[39;00m \u001b[39mmatplotlib\u001b[39;00m \u001b[39mimport\u001b[39;00m pyplot \u001b[39mas\u001b[39;00m plt\n\u001b[0;32m      <a href='vscode-notebook-cell:/d%3A/One%20Drive%20Backup/OneDrive/Desktop/Codding/Jupiter%20Notebook/ADV-C191-Student/ADV-C191-Student-20210106T105831Z-001/C191-student.ipynb#ch0000004?line=5'>6</a>\u001b[0m dataframe \u001b[39m=\u001b[39m pd\u001b[39m.\u001b[39mread_csv(\u001b[39m'\u001b[39m\u001b[39mC191_satellite_data.csv\u001b[39m\u001b[39m'\u001b[39m)\n",
      "\u001b[1;31mModuleNotFoundError\u001b[0m: No module named 'pandas'"
     ]
    }
   ],
   "source": [
    "\n",
    "\n",
    "#Activity-2\n",
    "#Q - Sort the data and find out 5 Countries whose satellites consume the least power, and plot a bar graph out of it\n",
    "import pandas as pd\n",
    "from matplotlib import pyplot as plt\n",
    "\n",
    "dataframe = pd.read_csv('C191_satellite_data.csv')\n",
    "dataframe\n",
    "\n",
    "df = pd.DataFrame(dataframe, columns =['Power (Watts)','Official Name of Satellite'])\n",
    "df.replace(\" \", float(\"NaN\"), inplace=True)\n",
    "\n",
    "df = df.dropna()\n",
    "\n",
    "sorted_df = df.sort_values(by=['Power (Watts)'])\n",
    "\n",
    "use_least_power_satellite_ = sorted_df.tail(5)\n",
    "print(use_least_power_satellite_)\n",
    "\n",
    "name = use_least_power_satellite_['Official Name of Satellite']\n",
    "power = use_least_power_satellite_['Power (Watts)']\n",
    "\n",
    "plt.xlabel(\"Official name of Satellite\")\n",
    "plt.xticks(rotation='vertical')\n",
    "plt.ylabel(\"Power (Watts)\")\n",
    "\n",
    "label = name\n",
    "value = power\n",
    "plt.bar(label, value, width=0.4, color=('red','yellow','green','pink','blue'))\n"
   ]
  },
  {
   "cell_type": "code",
   "execution_count": null,
   "metadata": {},
   "outputs": [],
   "source": []
  },
  {
   "cell_type": "code",
   "execution_count": null,
   "metadata": {},
   "outputs": [],
   "source": []
  }
 ],
 "metadata": {
  "kernelspec": {
   "display_name": "Python 3",
   "language": "python",
   "name": "python3"
  },
  "language_info": {
   "codemirror_mode": {
    "name": "ipython",
    "version": 3
   },
   "file_extension": ".py",
   "mimetype": "text/x-python",
   "name": "python",
   "nbconvert_exporter": "python",
   "pygments_lexer": "ipython3",
   "version": "3.8.0"
  }
 },
 "nbformat": 4,
 "nbformat_minor": 4
}
